import pandas as pd

# 构造模拟数据
data = {
    'OrderDate': ['2022-01-01', '2022-01-02', '2022-01-05', '2022-02-01', '2022-02-10', '2022-03-01', '2022-03-15'],
    'Country': ['USA', 'UK', 'USA', 'Germany', 'UK', 'China', 'China'],
    'Product': ['A', 'B', 'A', 'C', 'B', 'A', 'C'],
    'Quantity': [10, 5, 8, 2, 12, 20, 3],
    'UnitPrice': [20.0, 15.0, 22.0, 30.0, 18.0, 19.0, 35.0]
}

df = pd.DataFrame(data)

# 保存为模拟的原始数据文件
df.to_csv("retail_sales_sample.csv", index=False)
print("✅ 模拟原始数据 retail_sales_sample.csv 创建完成")
df.head()
✅ 模拟原始数据 retail_sales_sample.csv 创建完成
OrderDate	Country	Product	Quantity	UnitPrice
0	2022-01-01	USA	A	10	20.0
1	2022-01-02	UK	B	5	15.0
2	2022-01-05	USA	A	8	22.0
3	2022-02-01	Germany	C	2	30.0
4	2022-02-10	UK	B	12	18.0
df_cleaned = df.copy()
df_cleaned.drop_duplicates(inplace=True)
df_cleaned.dropna(inplace=True)
df_cleaned['OrderDate'] = pd.to_datetime(df_cleaned['OrderDate'], errors='coerce')
df_cleaned = df_cleaned[df_cleaned['OrderDate'].notnull()]
df_cleaned['TotalSales'] = df_cleaned['Quantity'] * df_cleaned['UnitPrice']
df_cleaned.to_csv("cleaned_sales.csv", index=False)
print("✅ cleaned_sales.csv 已成功保存")
✅ cleaned_sales.csv 已成功保存
# 假设你现在的 DataFrame 是 df_cleaned
df_cleaned.to_csv("cleaned_sales.csv", index=False)
print("✅ cleaned_sales.csv 已保存成功")
✅ cleaned_sales.csv 已保存成功
from google.colab import files
files.download("cleaned_sales.csv")

